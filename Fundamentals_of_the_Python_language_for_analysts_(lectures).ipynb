{
  "nbformat": 4,
  "nbformat_minor": 0,
  "metadata": {
    "colab": {
      "provenance": [],
      "authorship_tag": "ABX9TyN1X3Dkex7SF/pV3imkGplA",
      "include_colab_link": true
    },
    "kernelspec": {
      "name": "python3",
      "display_name": "Python 3"
    },
    "language_info": {
      "name": "python"
    }
  },
  "cells": [
    {
      "cell_type": "markdown",
      "metadata": {
        "id": "view-in-github",
        "colab_type": "text"
      },
      "source": [
        "<a href=\"https://colab.research.google.com/github/Stanislav82-hub/GitHub1/blob/main/Fundamentals_of_the_Python_language_for_analysts_(lectures).ipynb\" target=\"_parent\"><img src=\"https://colab.research.google.com/assets/colab-badge.svg\" alt=\"Open In Colab\"/></a>"
      ]
    },
    {
      "cell_type": "markdown",
      "source": [
        "#Словарь - неупорядоченная структура данных, которая позволяет хранить пары «ключ — значение».\n",
        "Данный словарь использует строки в качестве ключей, однако ключом может являться в принципе любой неизменяемый тип данных. Значением же конкретного ключа может быть что угодно.\n"
      ],
      "metadata": {
        "id": "0W2SD_K3pBDo"
      }
    },
    {
      "cell_type": "code",
      "execution_count": null,
      "metadata": {
        "colab": {
          "base_uri": "https://localhost:8080/"
        },
        "id": "7BeixWbpjLxA",
        "outputId": "e11c76e8-1551-4cd5-9289-1c6dc3c998fd"
      },
      "outputs": [
        {
          "output_type": "execute_result",
          "data": {
            "text/plain": [
              "{'name': 'John', 'surname': 'Doe', 'age': 32}"
            ]
          },
          "metadata": {},
          "execution_count": 4
        }
      ],
      "source": [
        "client_data = {'name': 'John','surname': 'Doe','age': 32}\n",
        "\n",
        "client_data"
      ]
    },
    {
      "cell_type": "markdown",
      "source": [
        "Чтобы достать нужный объект по ключу, к примеру ‘name’, нужно после имени словаря указать квадратные скобки и в них передать имя желаемого ключа."
      ],
      "metadata": {
        "id": "1AcAuaJ9p7ov"
      }
    },
    {
      "cell_type": "code",
      "source": [
        "client_data['name']"
      ],
      "metadata": {
        "colab": {
          "base_uri": "https://localhost:8080/",
          "height": 35
        },
        "id": "QcVxNcujp8--",
        "outputId": "3994e4a7-69a9-4d35-9c62-76a65fad42bd"
      },
      "execution_count": null,
      "outputs": [
        {
          "output_type": "execute_result",
          "data": {
            "text/plain": [
              "'John'"
            ],
            "application/vnd.google.colaboratory.intrinsic+json": {
              "type": "string"
            }
          },
          "metadata": {},
          "execution_count": 5
        }
      ]
    },
    {
      "cell_type": "markdown",
      "source": [
        "Или можем получить все ключи, для этого вызываем метод  **.keys** () , возвращается список из ключей."
      ],
      "metadata": {
        "id": "7EJzsfJkqCr_"
      }
    },
    {
      "cell_type": "code",
      "source": [
        "client_data.keys()"
      ],
      "metadata": {
        "colab": {
          "base_uri": "https://localhost:8080/"
        },
        "id": "K084bP7jofz1",
        "outputId": "7ee1bb20-cb17-4260-9434-19111db75722"
      },
      "execution_count": null,
      "outputs": [
        {
          "output_type": "execute_result",
          "data": {
            "text/plain": [
              "dict_keys(['name', 'surname', 'age'])"
            ]
          },
          "metadata": {},
          "execution_count": 6
        }
      ]
    },
    {
      "cell_type": "markdown",
      "source": [
        "По аналогии со ключами словаря, для получения всех значений можем вызвать метод **.values** ()\n"
      ],
      "metadata": {
        "id": "0IOS0riU1t9S"
      }
    },
    {
      "cell_type": "code",
      "source": [
        "client_data.values()"
      ],
      "metadata": {
        "colab": {
          "base_uri": "https://localhost:8080/"
        },
        "id": "2l4jzWz-1zET",
        "outputId": "cfabefb2-770c-4ab7-8312-9bf18db952c1"
      },
      "execution_count": null,
      "outputs": [
        {
          "output_type": "execute_result",
          "data": {
            "text/plain": [
              "dict_values(['John', 'Doe', 32])"
            ]
          },
          "metadata": {},
          "execution_count": 8
        }
      ]
    },
    {
      "cell_type": "markdown",
      "source": [
        "А если хочется получить и ключи, и значения сразу, то тут используем **.items**(), возвращается кортеж, где в первом элементе будет стоять ключ, а во втором элементе - значение."
      ],
      "metadata": {
        "id": "3waXlmSZ2Npg"
      }
    },
    {
      "cell_type": "code",
      "source": [
        "client_data.items()"
      ],
      "metadata": {
        "colab": {
          "base_uri": "https://localhost:8080/"
        },
        "id": "sg3_cTG32pWF",
        "outputId": "ec00acc1-bb9c-42c4-e1be-0f1b47142d4d"
      },
      "execution_count": null,
      "outputs": [
        {
          "output_type": "execute_result",
          "data": {
            "text/plain": [
              "dict_items([('name', 'John'), ('surname', 'Doe'), ('age', 32)])"
            ]
          },
          "metadata": {},
          "execution_count": 9
        }
      ]
    },
    {
      "cell_type": "markdown",
      "source": [],
      "metadata": {
        "id": "RniGxUEYC7RV"
      }
    },
    {
      "cell_type": "markdown",
      "source": [
        "Вот по этой структуре данных можно итерироваться, получая сразу ключи и значения за одну итерацию."
      ],
      "metadata": {
        "id": "_1IpZdF15sOt"
      }
    },
    {
      "cell_type": "code",
      "source": [
        "for k, v in client_data.items():\n",
        "    print(f'{k}: {v}')"
      ],
      "metadata": {
        "colab": {
          "base_uri": "https://localhost:8080/"
        },
        "id": "Upkxc_YI5ryj",
        "outputId": "dc03466f-3b8b-4249-e9ec-90861922214a"
      },
      "execution_count": null,
      "outputs": [
        {
          "output_type": "stream",
          "name": "stdout",
          "text": [
            "name: John\n",
            "surname: Doe\n",
            "age: 32\n"
          ]
        }
      ]
    },
    {
      "cell_type": "markdown",
      "source": [
        "Так же можем добавить новые сведения про John Doe в наши данные. Хотим добавить информацию о росте, для этого пишем новый ключ ‘height’ и через знак равно значение роста."
      ],
      "metadata": {
        "id": "jmVe_jPp8832"
      }
    },
    {
      "cell_type": "code",
      "source": [
        "client_data['height'] = 186\n",
        "client_data"
      ],
      "metadata": {
        "colab": {
          "base_uri": "https://localhost:8080/"
        },
        "id": "tgsjWDOf891C",
        "outputId": "473780ba-5025-4d6b-ca59-41cf9b00f0c5"
      },
      "execution_count": null,
      "outputs": [
        {
          "output_type": "execute_result",
          "data": {
            "text/plain": [
              "{'name': 'John', 'surname': 'Doe', 'age': 32, 'height': 186}"
            ]
          },
          "metadata": {},
          "execution_count": 11
        }
      ]
    },
    {
      "cell_type": "markdown",
      "source": [
        "При этом если такой ключ уже был, то мы его перезапишем на новое значение, даже если мы этого не хотели."
      ],
      "metadata": {
        "id": "j4XT2LMX90UA"
      }
    },
    {
      "cell_type": "code",
      "source": [
        "client_data['age'] = 14\n",
        "client_data"
      ],
      "metadata": {
        "colab": {
          "base_uri": "https://localhost:8080/"
        },
        "id": "6WoObioT9033",
        "outputId": "57da821b-6203-414c-e73e-6c4ed6a7e5fa"
      },
      "execution_count": null,
      "outputs": [
        {
          "output_type": "execute_result",
          "data": {
            "text/plain": [
              "{'name': 'John', 'surname': 'Doe', 'age': 14, 'height': 186}"
            ]
          },
          "metadata": {},
          "execution_count": 14
        }
      ]
    },
    {
      "cell_type": "code",
      "source": [
        "client_data = {\n",
        "    'name': 'John',\n",
        "    'surname': 'Doe',\n",
        "    'age': 32\n",
        "}\n",
        "\n",
        "client_data"
      ],
      "metadata": {
        "colab": {
          "base_uri": "https://localhost:8080/"
        },
        "id": "Jenxb_tn-4T4",
        "outputId": "d5a620b4-2afb-4df9-cda4-9ac92e79071d"
      },
      "execution_count": null,
      "outputs": [
        {
          "output_type": "execute_result",
          "data": {
            "text/plain": [
              "{'name': 'John', 'surname': 'Doe', 'age': 32}"
            ]
          },
          "metadata": {},
          "execution_count": 15
        }
      ]
    },
    {
      "cell_type": "markdown",
      "source": [
        " К примеру, у нас уже записан возраст John’а, он у нас 32-летний, а мы вдруг ошибочно хотим снова записать ключ ‘age’. И всё перезаписывается. Это поведение кода для нас может быть неприемлемым. Если боитесь перезаписать существующие ключи, то можете пользоваться методом **.setdefault**(), тогда Python сначала посмотрит, а есть ли такой ключ в словаре и если он есть, то вернет его значение, а если такого ключа нет, то запишется на то, которое указано в методе. Видим, что у нас ничего не поменялось в ключе возраста, как там был возраст 32, так он и остался:"
      ],
      "metadata": {
        "id": "RhpskEY6_Jf-"
      }
    },
    {
      "cell_type": "code",
      "source": [
        "client_data.setdefault('age', 14)"
      ],
      "metadata": {
        "colab": {
          "base_uri": "https://localhost:8080/"
        },
        "id": "bJiTP2DO_RPS",
        "outputId": "e740ed3b-0b90-45f2-823e-82fe4c2191ad"
      },
      "execution_count": null,
      "outputs": [
        {
          "output_type": "execute_result",
          "data": {
            "text/plain": [
              "32"
            ]
          },
          "metadata": {},
          "execution_count": 16
        }
      ]
    },
    {
      "cell_type": "code",
      "source": [
        "client_data"
      ],
      "metadata": {
        "colab": {
          "base_uri": "https://localhost:8080/"
        },
        "id": "jDMXATre_atb",
        "outputId": "40c99b10-b94d-4226-bb25-fa8cfeb74243"
      },
      "execution_count": null,
      "outputs": [
        {
          "output_type": "execute_result",
          "data": {
            "text/plain": [
              "{'name': 'John', 'surname': 'Doe', 'age': 32}"
            ]
          },
          "metadata": {},
          "execution_count": 17
        }
      ]
    },
    {
      "cell_type": "markdown",
      "source": [
        "Метод **.update**() обновляет словарь элементами из другого объекта словаря или из итерируемых пар ключ-значение. Функция добавляет элемент(ы) в словарь, если ключ отсутствует в словаре. Если ключ находится в словаре, он обновляет ключ новым значением.\n",
        "Попытаемся поменять возраст John на 14 через метод update() и видим, что здесь нет проверки: а есть ли уже такой ключ, как было в setdefault(), здесь просто происходит перезапись:\n"
      ],
      "metadata": {
        "id": "XWAWMzjyDsyh"
      }
    },
    {
      "cell_type": "code",
      "source": [
        "client_data.update({'age': 14})\n",
        "client_data"
      ],
      "metadata": {
        "colab": {
          "base_uri": "https://localhost:8080/"
        },
        "id": "xJVlcjbWDsdm",
        "outputId": "d3a8c0f1-af0c-45d3-9f67-4e329c09c6f0"
      },
      "execution_count": null,
      "outputs": [
        {
          "output_type": "execute_result",
          "data": {
            "text/plain": [
              "{'name': 'John', 'surname': 'Doe', 'age': 14}"
            ]
          },
          "metadata": {},
          "execution_count": 18
        }
      ]
    },
    {
      "cell_type": "markdown",
      "source": [
        "И перезаписывает он не только существующие ключи, но и записывает новые, при этом здесь записывается вложенный словарь в ключ ‘body’. Вложенный словарь – это словарь, содержащий другие словари."
      ],
      "metadata": {
        "id": "dGASmDDJEL1a"
      }
    },
    {
      "cell_type": "code",
      "source": [
        "client_data.update({'age': 15,'body': {'weight': 80,'height': 186}})\n",
        "\n",
        "client_data"
      ],
      "metadata": {
        "colab": {
          "base_uri": "https://localhost:8080/"
        },
        "id": "isjegJp_EMbk",
        "outputId": "c694ab25-93ad-42f5-c6d7-9286df937e16"
      },
      "execution_count": null,
      "outputs": [
        {
          "output_type": "execute_result",
          "data": {
            "text/plain": [
              "{'name': 'John',\n",
              " 'surname': 'Doe',\n",
              " 'age': 15,\n",
              " 'body': {'weight': 80, 'height': 186}}"
            ]
          },
          "metadata": {},
          "execution_count": 19
        }
      ]
    },
    {
      "cell_type": "markdown",
      "source": [
        "Получить элемент из вложенного словаря можно через обращение к первому ключу ‘body’, где получим словарь:"
      ],
      "metadata": {
        "id": "E8Na7YneFTIU"
      }
    },
    {
      "cell_type": "code",
      "source": [
        "client_data['body']"
      ],
      "metadata": {
        "colab": {
          "base_uri": "https://localhost:8080/"
        },
        "id": "LsDMcd6_FUux",
        "outputId": "93dc4e66-172c-46af-e401-30e5c59d4993"
      },
      "execution_count": null,
      "outputs": [
        {
          "output_type": "execute_result",
          "data": {
            "text/plain": [
              "{'weight': 80, 'height': 186}"
            ]
          },
          "metadata": {},
          "execution_count": 20
        }
      ]
    },
    {
      "cell_type": "markdown",
      "source": [
        "А затем обращаемся к ключу ‘height’, чтобы получить рост из словаря"
      ],
      "metadata": {
        "id": "fyqU-GygFj2s"
      }
    },
    {
      "cell_type": "code",
      "source": [
        "client_data['body']['height']"
      ],
      "metadata": {
        "colab": {
          "base_uri": "https://localhost:8080/"
        },
        "id": "-xS9o4pSFkmD",
        "outputId": "2590e6fa-b492-43b4-96ae-27ff63f340c3"
      },
      "execution_count": null,
      "outputs": [
        {
          "output_type": "execute_result",
          "data": {
            "text/plain": [
              "186"
            ]
          },
          "metadata": {},
          "execution_count": 21
        }
      ]
    },
    {
      "cell_type": "markdown",
      "source": [
        "#Модуль Random\n",
        "Модуль **random** предоставляет функции для генерации случайных чисел или к примеру, для случайного выбора элементов последовательности. Посмотрим на самые полезные функции:\n",
        "* **random.randint(A, B)** возвращает случайное целое число из диапазона A до B. При этом значение на выходе всегда будет разное, если будем перезапускать данную ячейку"
      ],
      "metadata": {
        "id": "k20wYV8gGDQz"
      }
    },
    {
      "cell_type": "code",
      "source": [
        "import random\n",
        "random.randint(0, 10)"
      ],
      "metadata": {
        "colab": {
          "base_uri": "https://localhost:8080/"
        },
        "id": "8cn_wIqJGBbF",
        "outputId": "18515abe-8532-43e7-c863-917ec28c4309"
      },
      "execution_count": null,
      "outputs": [
        {
          "output_type": "execute_result",
          "data": {
            "text/plain": [
              "2"
            ]
          },
          "metadata": {},
          "execution_count": 29
        }
      ]
    },
    {
      "cell_type": "markdown",
      "source": [
        "чтобы значение случайности всегда было одинаковое можем зафиксировать **random. seed**. И теперь сколько бы мы раз не перезапускали эту ячейку, генерация всегда будет одинаковая:"
      ],
      "metadata": {
        "id": "mlVgV1AsIG1m"
      }
    },
    {
      "cell_type": "code",
      "source": [
        "random.seed(5)\n",
        "random.randint(0, 10)"
      ],
      "metadata": {
        "colab": {
          "base_uri": "https://localhost:8080/"
        },
        "id": "IJzgmzBOH7UV",
        "outputId": "9caab692-a2f0-4003-875c-8a8507249390"
      },
      "execution_count": null,
      "outputs": [
        {
          "output_type": "execute_result",
          "data": {
            "text/plain": [
              "9"
            ]
          },
          "metadata": {},
          "execution_count": 48
        }
      ]
    },
    {
      "cell_type": "markdown",
      "source": [
        "**random.random**() - возвращает случайное число от 0 до 1:"
      ],
      "metadata": {
        "id": "y5-DtpaJJK0C"
      }
    },
    {
      "cell_type": "code",
      "source": [
        "random.random()"
      ],
      "metadata": {
        "colab": {
          "base_uri": "https://localhost:8080/"
        },
        "id": "GGjVStGsJNzu",
        "outputId": "c50e788e-70e6-4b24-c625-7556d1de434c"
      },
      "execution_count": null,
      "outputs": [
        {
          "output_type": "execute_result",
          "data": {
            "text/plain": [
              "0.2554450164868458"
            ]
          },
          "metadata": {},
          "execution_count": 49
        }
      ]
    },
    {
      "cell_type": "markdown",
      "source": [
        "**random.uniform(A, B)** - возвращает случайное число с плавающей точкой в диапазоне от A до B."
      ],
      "metadata": {
        "id": "0_WbYb1XJpAf"
      }
    },
    {
      "cell_type": "code",
      "source": [
        "random.uniform(0, 10)"
      ],
      "metadata": {
        "colab": {
          "base_uri": "https://localhost:8080/"
        },
        "id": "Tg5qom9RJ3Wu",
        "outputId": "5df536d9-fdb7-4eec-c0fb-8dae2ab850cc"
      },
      "execution_count": null,
      "outputs": [
        {
          "output_type": "execute_result",
          "data": {
            "text/plain": [
              "3.5853551175589526"
            ]
          },
          "metadata": {},
          "execution_count": 50
        }
      ]
    },
    {
      "cell_type": "markdown",
      "source": [
        "**random.sample(data, k)** - возвращает список длиной k из последовательности data."
      ],
      "metadata": {
        "id": "zSsiqSRoKieU"
      }
    },
    {
      "cell_type": "code",
      "source": [
        "data = ['black', 'red', 'yellow', 'green']\n",
        "random.sample(data, 2)"
      ],
      "metadata": {
        "colab": {
          "base_uri": "https://localhost:8080/"
        },
        "id": "1W3ZOXb_KpSt",
        "outputId": "abde73ed-a345-4345-b876-334a64f816cb"
      },
      "execution_count": null,
      "outputs": [
        {
          "output_type": "execute_result",
          "data": {
            "text/plain": [
              "['black', 'red']"
            ]
          },
          "metadata": {},
          "execution_count": 51
        }
      ]
    },
    {
      "cell_type": "markdown",
      "source": [
        "**random.shuffle**(data) - перемешивает последовательность, при этом изменяется сама последовательность, ничего не возвращается."
      ],
      "metadata": {
        "id": "8xe4009aLgIW"
      }
    },
    {
      "cell_type": "code",
      "source": [
        "random.shuffle(data)\n",
        "data"
      ],
      "metadata": {
        "colab": {
          "base_uri": "https://localhost:8080/"
        },
        "id": "8R5hv3zjLqUe",
        "outputId": "f41ec54e-91fb-4db5-a41f-215b22be2604"
      },
      "execution_count": null,
      "outputs": [
        {
          "output_type": "execute_result",
          "data": {
            "text/plain": [
              "['green', 'black', 'yellow', 'red']"
            ]
          },
          "metadata": {},
          "execution_count": 52
        }
      ]
    },
    {
      "cell_type": "markdown",
      "source": [
        "**random.choice(data)** - возвращает случайный элемент из последовательности."
      ],
      "metadata": {
        "id": "9YN4bOA1LzIr"
      }
    },
    {
      "cell_type": "code",
      "source": [
        "random.choice(data)"
      ],
      "metadata": {
        "colab": {
          "base_uri": "https://localhost:8080/",
          "height": 35
        },
        "id": "fM_px73pLhJA",
        "outputId": "17fa73bb-2806-4d26-97b0-b3b7a7ed1076"
      },
      "execution_count": null,
      "outputs": [
        {
          "output_type": "execute_result",
          "data": {
            "text/plain": [
              "'black'"
            ],
            "application/vnd.google.colaboratory.intrinsic+json": {
              "type": "string"
            }
          },
          "metadata": {},
          "execution_count": 53
        }
      ]
    },
    {
      "cell_type": "markdown",
      "source": [
        "# **Функция в python** - объект, который принимает аргументы, производит с ними желаемые действия и возвращает значение. Также функция — это фрагмент программного кода, который решает какую-либо задачу. Его можно вызывать в любом месте основной программы. Функции помогают избегать дублирования кода при многократном его использовании.\n",
        "\n",
        "**Аргумент функции** — значение, которое передается в функцию при её вызове.\n"
      ],
      "metadata": {
        "id": "LacQZU6OwLY4"
      }
    },
    {
      "cell_type": "code",
      "source": [
        "def calc_sum(a, b):\n",
        "    print(f'a is {a}')\n",
        "    print(f'b is {b}')\n",
        "    result = a + b\n",
        "    return result"
      ],
      "metadata": {
        "id": "S1ny4VfywOPg"
      },
      "execution_count": null,
      "outputs": []
    },
    {
      "cell_type": "markdown",
      "source": [
        "В функцию подсчета суммы передаем два аргумента по позиции:  "
      ],
      "metadata": {
        "id": "gVC9cXBBwzng"
      }
    },
    {
      "cell_type": "code",
      "source": [
        "calc_sum(3, 5)"
      ],
      "metadata": {
        "colab": {
          "base_uri": "https://localhost:8080/"
        },
        "id": "crIF_Wucw0Qd",
        "outputId": "d951571d-3ba0-4ac3-aed1-30fd1f3fbbb7"
      },
      "execution_count": null,
      "outputs": [
        {
          "output_type": "stream",
          "name": "stdout",
          "text": [
            "a is 3\n",
            "b is 5\n"
          ]
        },
        {
          "output_type": "execute_result",
          "data": {
            "text/plain": [
              "8"
            ]
          },
          "metadata": {},
          "execution_count": 2
        }
      ]
    },
    {
      "cell_type": "markdown",
      "source": [
        "Можно передать их по имени, первый аргумент называется a, второй называется b:"
      ],
      "metadata": {
        "id": "-LV8z4hVxAjd"
      }
    },
    {
      "cell_type": "code",
      "source": [
        "calc_sum(a=3, b=5)"
      ],
      "metadata": {
        "colab": {
          "base_uri": "https://localhost:8080/"
        },
        "id": "BNrwUQBYxBWS",
        "outputId": "027c6bb6-bcf2-4213-97e7-4cb097b94d26"
      },
      "execution_count": null,
      "outputs": [
        {
          "output_type": "stream",
          "name": "stdout",
          "text": [
            "a is 3\n",
            "b is 5\n"
          ]
        },
        {
          "output_type": "execute_result",
          "data": {
            "text/plain": [
              "8"
            ]
          },
          "metadata": {},
          "execution_count": 3
        }
      ]
    },
    {
      "cell_type": "markdown",
      "source": [
        "Если мы сначала попытаемся передать аргумент b, а затем аргумент a по порядку, то ничего не получится, ведь по порядку сначала надо принять a, а только потом b.\n",
        "Но передать их по именам можно:\n"
      ],
      "metadata": {
        "id": "6EZExyRoxQKf"
      }
    },
    {
      "cell_type": "code",
      "source": [
        "calc_sum(b=5, a=3)"
      ],
      "metadata": {
        "colab": {
          "base_uri": "https://localhost:8080/"
        },
        "id": "-5WYUmqTxU4U",
        "outputId": "c93fbcca-9927-49a8-f258-4a50b6c07b62"
      },
      "execution_count": null,
      "outputs": [
        {
          "output_type": "stream",
          "name": "stdout",
          "text": [
            "a is 3\n",
            "b is 5\n"
          ]
        },
        {
          "output_type": "execute_result",
          "data": {
            "text/plain": [
              "8"
            ]
          },
          "metadata": {},
          "execution_count": 4
        }
      ]
    },
    {
      "cell_type": "markdown",
      "source": [
        "А вот если сначала указать b по имени, а аргумент a по порядку, то будет ошибка, что позиционный аргумент идет после аргумента по имени, так делать в Python нельзя. Зато можно сначала указать по порядку аргументы, а затем по имени и никаких ошибок,Так что стратегия такая: сначала все порядковые аргументы, а затем все именованные."
      ],
      "metadata": {
        "id": "p9lcZ9bryMgk"
      }
    },
    {
      "cell_type": "code",
      "source": [
        "calc_sum(3, b=5)"
      ],
      "metadata": {
        "colab": {
          "base_uri": "https://localhost:8080/"
        },
        "id": "zeghOBATyWdh",
        "outputId": "901ae7a4-1018-4153-c17b-1b14c81a5d4c"
      },
      "execution_count": null,
      "outputs": [
        {
          "output_type": "stream",
          "name": "stdout",
          "text": [
            "a is 3\n",
            "b is 5\n"
          ]
        },
        {
          "output_type": "execute_result",
          "data": {
            "text/plain": [
              "8"
            ]
          },
          "metadata": {},
          "execution_count": 6
        }
      ]
    },
    {
      "cell_type": "markdown",
      "source": [
        "В функцию можно передавать ** аргументы по умолчанию** , это те аргументы, значения которых будут использованы, если не передали им явное значение при вызове.\n",
        "Такую функцию можно вызвать без аргументов и всё отработает без ошибок, ведь два аргумента имеют значения, хотя мы их не указывали при вызове:\n"
      ],
      "metadata": {
        "id": "fSMCBeaxViOe"
      }
    },
    {
      "cell_type": "code",
      "source": [
        "def say_hi(greeting='Hello', name='World'):\n",
        "    return f'{greeting}, {name}'"
      ],
      "metadata": {
        "id": "7LXlzZ51VkSD"
      },
      "execution_count": null,
      "outputs": []
    },
    {
      "cell_type": "code",
      "source": [
        "say_hi()"
      ],
      "metadata": {
        "colab": {
          "base_uri": "https://localhost:8080/",
          "height": 35
        },
        "id": "06qeV-KEWHi5",
        "outputId": "a254fb25-09a5-409b-ec2a-2c8e089060f7"
      },
      "execution_count": null,
      "outputs": [
        {
          "output_type": "execute_result",
          "data": {
            "text/plain": [
              "'Hello, World'"
            ],
            "application/vnd.google.colaboratory.intrinsic+json": {
              "type": "string"
            }
          },
          "metadata": {},
          "execution_count": 2
        }
      ]
    },
    {
      "cell_type": "markdown",
      "source": [
        "Менять аргументы по умолчанию, конечно же, можно:  "
      ],
      "metadata": {
        "id": "1vYNf99bWjzD"
      }
    },
    {
      "cell_type": "code",
      "source": [
        "say_hi(greeting='Hey', name='Apple')"
      ],
      "metadata": {
        "colab": {
          "base_uri": "https://localhost:8080/",
          "height": 35
        },
        "id": "1l00F9dPWkJy",
        "outputId": "848d630a-5a36-46d0-9b82-7f5fe0688787"
      },
      "execution_count": null,
      "outputs": [
        {
          "output_type": "execute_result",
          "data": {
            "text/plain": [
              "'Hey, Apple'"
            ],
            "application/vnd.google.colaboratory.intrinsic+json": {
              "type": "string"
            }
          },
          "metadata": {},
          "execution_count": 3
        }
      ]
    },
    {
      "cell_type": "markdown",
      "source": [
        "Чтобы не менять постоянно реализацию функции можно воспользоваться аргументом __*args__ , он помогает, когда в вашу функцию может поступать разное количество входных значений."
      ],
      "metadata": {
        "id": "OhAZr_8ObKrE"
      }
    },
    {
      "cell_type": "code",
      "source": [
        "def calc_sum(a, b, c):\n",
        "    result = a + b + c\n",
        "    return result"
      ],
      "metadata": {
        "id": "OXeHPFwXbRAW"
      },
      "execution_count": null,
      "outputs": []
    },
    {
      "cell_type": "code",
      "source": [
        "def calc_sum(a, b, c, d, e):\n",
        "    result = a + b + c + d + e\n",
        "    return result"
      ],
      "metadata": {
        "id": "0X5gBrvSo0e8"
      },
      "execution_count": null,
      "outputs": []
    },
    {
      "cell_type": "code",
      "source": [
        "def calc_sum(*args):\n",
        "    result = sum(args)\n",
        "    return result"
      ],
      "metadata": {
        "id": "POSWpN8wo2w9"
      },
      "execution_count": null,
      "outputs": []
    },
    {
      "cell_type": "code",
      "source": [
        "calc_sum(1)"
      ],
      "metadata": {
        "id": "jBDUcKbVo5HF"
      },
      "execution_count": null,
      "outputs": []
    },
    {
      "cell_type": "code",
      "source": [
        "calc_sum(10, 0, 5)"
      ],
      "metadata": {
        "colab": {
          "base_uri": "https://localhost:8080/"
        },
        "id": "eueCyB63o9Fe",
        "outputId": "a743294c-a1a4-4306-da62-b24e2cc0c278"
      },
      "execution_count": null,
      "outputs": [
        {
          "output_type": "execute_result",
          "data": {
            "text/plain": [
              "15"
            ]
          },
          "metadata": {},
          "execution_count": 3
        }
      ]
    },
    {
      "cell_type": "markdown",
      "source": [
        "__**kwargs__ — сокращение от «keyword arguments» (именованные аргументы).\n",
        "Главное — это два символа **. Благодаря им создается словарь, в котором содержатся именованные аргументы, переданные функции при ее вызове.\n",
        "Еще один интересный атрибут, у которого похожая логика на args, только здесь атрибуты будут именованными. Аргумент *kwargs из себя представляет словарь, который может содержать любое количество элементов:\n"
      ],
      "metadata": {
        "id": "EzQft_pnJWTG"
      }
    },
    {
      "cell_type": "code",
      "source": [
        "def printer(**kwargs):\n",
        "    print(type(kwargs))\n",
        "    print()\n",
        "    for key, value in kwargs.items():\n",
        "        print(f'{key} - {value}')"
      ],
      "metadata": {
        "id": "7ih0xXATKEIe"
      },
      "execution_count": null,
      "outputs": []
    },
    {
      "cell_type": "code",
      "source": [
        "printer(a=10, b='20')"
      ],
      "metadata": {
        "colab": {
          "base_uri": "https://localhost:8080/"
        },
        "id": "tEkr1ZgOKIoa",
        "outputId": "dd202052-4f22-47ea-9c55-540876346a54"
      },
      "execution_count": null,
      "outputs": [
        {
          "output_type": "stream",
          "name": "stdout",
          "text": [
            "<class 'dict'>\n",
            "\n",
            "a - 10\n",
            "b - 20\n"
          ]
        }
      ]
    },
    {
      "cell_type": "markdown",
      "source": [
        "К этим ключам при необходимости можно обращаться, а какие-то ключи могут быть проигнорированы:"
      ],
      "metadata": {
        "id": "SOT05kEvUUXE"
      }
    },
    {
      "cell_type": "code",
      "source": [
        "def say_hi(**kwargs):\n",
        "    greeting = kwargs.get('greeting', 'Hello')\n",
        "    name = kwargs.get('name', 'World')\n",
        "    return f'{greeting}, {name}'"
      ],
      "metadata": {
        "id": "3HdnpxM4UU95"
      },
      "execution_count": null,
      "outputs": []
    },
    {
      "cell_type": "code",
      "source": [
        "say_hi()"
      ],
      "metadata": {
        "colab": {
          "base_uri": "https://localhost:8080/",
          "height": 35
        },
        "id": "NEEA9pXlUamC",
        "outputId": "20edac03-31ad-4b74-a12a-3a581375b3ef"
      },
      "execution_count": null,
      "outputs": [
        {
          "output_type": "execute_result",
          "data": {
            "text/plain": [
              "'Hello, World'"
            ],
            "application/vnd.google.colaboratory.intrinsic+json": {
              "type": "string"
            }
          },
          "metadata": {},
          "execution_count": 5
        }
      ]
    },
    {
      "cell_type": "code",
      "source": [
        "say_hi(greeting='Hey', name='John')"
      ],
      "metadata": {
        "colab": {
          "base_uri": "https://localhost:8080/",
          "height": 35
        },
        "id": "2SQG1AWUU6Ui",
        "outputId": "b9c48664-4445-4014-8357-19c1572dcaec"
      },
      "execution_count": null,
      "outputs": [
        {
          "output_type": "execute_result",
          "data": {
            "text/plain": [
              "'Hey, John'"
            ],
            "application/vnd.google.colaboratory.intrinsic+json": {
              "type": "string"
            }
          },
          "metadata": {},
          "execution_count": 6
        }
      ]
    },
    {
      "cell_type": "code",
      "source": [
        "say_hi(greeting='Hey', name='John', extra=5)"
      ],
      "metadata": {
        "colab": {
          "base_uri": "https://localhost:8080/",
          "height": 35
        },
        "id": "oTLWbp2nVbwJ",
        "outputId": "c9f16896-6234-4466-d94d-fc9bf751e8d8"
      },
      "execution_count": null,
      "outputs": [
        {
          "output_type": "execute_result",
          "data": {
            "text/plain": [
              "'Hey, John'"
            ],
            "application/vnd.google.colaboratory.intrinsic+json": {
              "type": "string"
            }
          },
          "metadata": {},
          "execution_count": 7
        }
      ]
    },
    {
      "cell_type": "markdown",
      "source": [
        "Так же в функцию с атрибутом __**kwargs__ можно передавать словарь, но его тоже нужно распаковать, используя две звездочки:"
      ],
      "metadata": {
        "id": "UiFbQf_VV9kK"
      }
    },
    {
      "cell_type": "code",
      "source": [
        "data = {'greeting': 'Hey',\n",
        "        'name': 'John',\n",
        "        'extra': 5}\n",
        "\n",
        "say_hi(**data)"
      ],
      "metadata": {
        "colab": {
          "base_uri": "https://localhost:8080/",
          "height": 35
        },
        "id": "aU1XpOHjV-tf",
        "outputId": "05a2b840-e52f-49d5-e01c-28617e40fb76"
      },
      "execution_count": null,
      "outputs": [
        {
          "output_type": "execute_result",
          "data": {
            "text/plain": [
              "'Hey, John'"
            ],
            "application/vnd.google.colaboratory.intrinsic+json": {
              "type": "string"
            }
          },
          "metadata": {},
          "execution_count": 9
        }
      ]
    },
    {
      "cell_type": "markdown",
      "source": [
        " **Аннотирование типов**\n",
        "Когда работаете с Python функциями, то возникает неочевидная проблема. Порой забываешь, а какого типа должны быть входные параметры и чего вообще ждать на выходе. Здесь может помочь аннотирование типов. Можно через двоеточие указывать, какой тип ждет функция для каждого аргумента. А для вывода через -> можно указать ожидаемый тип на выходе функции:\n"
      ],
      "metadata": {
        "id": "6snFbarOKx1x"
      }
    },
    {
      "cell_type": "code",
      "source": [
        "def calc_sum(a: int, b: int) -> int:\n",
        "    return a + b"
      ],
      "metadata": {
        "id": "D53SYIBXMIcF"
      },
      "execution_count": null,
      "outputs": []
    },
    {
      "cell_type": "code",
      "source": [
        "calc_sum(1, 2)"
      ],
      "metadata": {
        "colab": {
          "base_uri": "https://localhost:8080/"
        },
        "id": "01ff-rWPNFTg",
        "outputId": "f5a610e6-c0f7-443a-8491-d1e33a271971"
      },
      "execution_count": null,
      "outputs": [
        {
          "output_type": "execute_result",
          "data": {
            "text/plain": [
              "3"
            ]
          },
          "metadata": {},
          "execution_count": 3
        }
      ]
    },
    {
      "cell_type": "code",
      "source": [
        "calc_sum(1.1, 2.2)"
      ],
      "metadata": {
        "colab": {
          "base_uri": "https://localhost:8080/"
        },
        "id": "dNtFGRWjNJz0",
        "outputId": "a85b9217-bfcc-4045-8c63-4c42d3d8e11c"
      },
      "execution_count": null,
      "outputs": [
        {
          "output_type": "execute_result",
          "data": {
            "text/plain": [
              "3.3000000000000003"
            ]
          },
          "metadata": {},
          "execution_count": 4
        }
      ]
    },
    {
      "cell_type": "code",
      "source": [
        "calc_sum('abc', 'dce')"
      ],
      "metadata": {
        "colab": {
          "base_uri": "https://localhost:8080/",
          "height": 35
        },
        "id": "8ntiXvRcNRqm",
        "outputId": "5b1ff426-9538-4070-c7f8-0c14ae1d79b1"
      },
      "execution_count": null,
      "outputs": [
        {
          "output_type": "execute_result",
          "data": {
            "text/plain": [
              "'abcdce'"
            ],
            "application/vnd.google.colaboratory.intrinsic+json": {
              "type": "string"
            }
          },
          "metadata": {},
          "execution_count": 5
        }
      ]
    },
    {
      "cell_type": "markdown",
      "source": [
        "# **Генератор** - это объект, который сразу при создании не вычисляет значения всех своих элементов.\n",
        "Генератор хранит в памяти:\n",
        "1.\tпоследний вычисленный элемент\n",
        "2.\tправило перехода к следующему\n",
        "3.\tусловие, при котором выполнение прерывается\n"
      ],
      "metadata": {
        "id": "L1t960iVcGfn"
      }
    },
    {
      "cell_type": "code",
      "source": [
        "def my_range(start, end):\n",
        "    current = start\n",
        "    while current < end:\n",
        "        yield current\n",
        "        current += 1"
      ],
      "metadata": {
        "id": "JlCpUgp4cKYi"
      },
      "execution_count": null,
      "outputs": []
    },
    {
      "cell_type": "markdown",
      "source": [
        "Оператор yield приостанавливает функцию и сохраняет локальное состояние, чтобы его можно было возобновить с того места, где оно было остановлено."
      ],
      "metadata": {
        "id": "frEwloUsdtIT"
      }
    },
    {
      "cell_type": "code",
      "source": [
        "ranger = my_range(0, 2)\n",
        "ranger"
      ],
      "metadata": {
        "colab": {
          "base_uri": "https://localhost:8080/"
        },
        "id": "rf4SsBnBfCzJ",
        "outputId": "a2067594-291a-4b14-b269-16c2ad39660c"
      },
      "execution_count": null,
      "outputs": [
        {
          "output_type": "execute_result",
          "data": {
            "text/plain": [
              "<generator object my_range at 0x7a0b94af8510>"
            ]
          },
          "metadata": {},
          "execution_count": 6
        }
      ]
    },
    {
      "cell_type": "code",
      "source": [
        "next(ranger)"
      ],
      "metadata": {
        "colab": {
          "base_uri": "https://localhost:8080/"
        },
        "id": "IRyG8TDLdp15",
        "outputId": "b110230d-f5b4-41e0-990e-486aabf0060f"
      },
      "execution_count": null,
      "outputs": [
        {
          "output_type": "execute_result",
          "data": {
            "text/plain": [
              "0"
            ]
          },
          "metadata": {},
          "execution_count": 7
        }
      ]
    },
    {
      "cell_type": "code",
      "source": [
        "next(ranger)"
      ],
      "metadata": {
        "colab": {
          "base_uri": "https://localhost:8080/"
        },
        "id": "9vVb6ZQDe7kE",
        "outputId": "e16aaae5-fb7d-4e48-e9ad-72c6a890e64d"
      },
      "execution_count": null,
      "outputs": [
        {
          "output_type": "execute_result",
          "data": {
            "text/plain": [
              "1"
            ]
          },
          "metadata": {},
          "execution_count": 8
        }
      ]
    },
    {
      "cell_type": "code",
      "source": [
        "next(ranger)"
      ],
      "metadata": {
        "colab": {
          "base_uri": "https://localhost:8080/",
          "height": 141
        },
        "id": "qONVZe8RfFxW",
        "outputId": "67eceb14-561a-44e6-e22f-a9e556df3b7e"
      },
      "execution_count": null,
      "outputs": [
        {
          "output_type": "error",
          "ename": "StopIteration",
          "evalue": "",
          "traceback": [
            "\u001b[0;31m---------------------------------------------------------------------------\u001b[0m",
            "\u001b[0;31mStopIteration\u001b[0m                             Traceback (most recent call last)",
            "\u001b[0;32m<ipython-input-9-c186e1cb4ee7>\u001b[0m in \u001b[0;36m<cell line: 1>\u001b[0;34m()\u001b[0m\n\u001b[0;32m----> 1\u001b[0;31m \u001b[0mnext\u001b[0m\u001b[0;34m(\u001b[0m\u001b[0mranger\u001b[0m\u001b[0;34m)\u001b[0m\u001b[0;34m\u001b[0m\u001b[0;34m\u001b[0m\u001b[0m\n\u001b[0m",
            "\u001b[0;31mStopIteration\u001b[0m: "
          ]
        }
      ]
    },
    {
      "cell_type": "markdown",
      "source": [
        "По генератору можем итерироваться через цикл for. К примеру, создадим объект генератора, который реализовали выше и запишем в переменную gen_a. Теперь по нему можем пройтись в цикле, используя for, печатая каждый элемент на экран:"
      ],
      "metadata": {
        "id": "r5o0UKGIfdy7"
      }
    },
    {
      "cell_type": "code",
      "source": [
        "gen_a = my_range(2, 5)\n",
        "for i in gen_a:\n",
        "    print(i)"
      ],
      "metadata": {
        "colab": {
          "base_uri": "https://localhost:8080/"
        },
        "id": "5m9FLz-Yfe3P",
        "outputId": "20d40283-00f8-4346-c03f-01f5041c8b4e"
      },
      "execution_count": null,
      "outputs": [
        {
          "output_type": "stream",
          "name": "stdout",
          "text": [
            "2\n",
            "3\n",
            "4\n"
          ]
        }
      ]
    },
    {
      "cell_type": "markdown",
      "source": [
        "А если захотим еще раз пройтись по этой же переменной, то ничего не вернется, это снова подтверждение тому, что генератор хранит только один элемент за раз, а не весь массив данных, как это делает список:"
      ],
      "metadata": {
        "id": "1RDk54iFgLi9"
      }
    },
    {
      "cell_type": "code",
      "source": [
        "for i in gen_a:\n",
        "    print(i)"
      ],
      "metadata": {
        "id": "1bVTrGbygAD-"
      },
      "execution_count": null,
      "outputs": []
    },
    {
      "cell_type": "markdown",
      "source": [
        "# **list comprehensions**\n"
      ],
      "metadata": {
        "id": "0fQYNiaQgOgi"
      }
    },
    {
      "cell_type": "code",
      "source": [
        "squares = []\n",
        "for i in range(5):\n",
        "    squares.append(i * i)\n",
        "squares"
      ],
      "metadata": {
        "colab": {
          "base_uri": "https://localhost:8080/"
        },
        "id": "-J7JLQlZis_i",
        "outputId": "1b19c7e2-4307-4f32-a350-efd6e5e8eb10"
      },
      "execution_count": null,
      "outputs": [
        {
          "output_type": "execute_result",
          "data": {
            "text/plain": [
              "[0, 1, 4, 9, 16]"
            ]
          },
          "metadata": {},
          "execution_count": 22
        }
      ]
    },
    {
      "cell_type": "code",
      "source": [
        "squares = [i * i for i in range(5)]\n",
        "squares\n",
        "\n",
        "#new_list = [expression for member in iterable] где\n",
        "# -\texpression - какое-то вычисление, вызов функции или любое другое допустимое выражение, которое возвращает значение.\n",
        "# -\tmember - объект или значение в списке или итерируемым объекте.\n",
        "# -\titerable - объект, по которому можно итерироваться (список, множество, последовательность, генератор)\n"
      ],
      "metadata": {
        "colab": {
          "base_uri": "https://localhost:8080/"
        },
        "id": "NALZXIKniwxZ",
        "outputId": "568ccf75-b650-451e-e0e9-83cd48b926a7"
      },
      "execution_count": null,
      "outputs": [
        {
          "output_type": "execute_result",
          "data": {
            "text/plain": [
              "[0, 1, 4, 9, 16]"
            ]
          },
          "metadata": {},
          "execution_count": 23
        }
      ]
    },
    {
      "cell_type": "markdown",
      "source": [
        "**Условные выражения** позволяют отфильтровывать нежелательные значения. Снова сначала рассмотрим реализацию через цикл:"
      ],
      "metadata": {
        "id": "gmpnoj3XjZM-"
      }
    },
    {
      "cell_type": "code",
      "source": [
        "even_nums = []\n",
        "for i in range(10):\n",
        "    if i % 2 == 0:\n",
        "        even_nums.append(i)\n",
        "\n",
        "even_nums"
      ],
      "metadata": {
        "colab": {
          "base_uri": "https://localhost:8080/"
        },
        "id": "oKvDWqrUjZzK",
        "outputId": "24a197e1-ab28-4130-9f2f-3ae289078a0f"
      },
      "execution_count": null,
      "outputs": [
        {
          "output_type": "execute_result",
          "data": {
            "text/plain": [
              "[0, 2, 4, 6, 8]"
            ]
          },
          "metadata": {},
          "execution_count": 24
        }
      ]
    },
    {
      "cell_type": "markdown",
      "source": [
        "А теперь с помощью list comprehension:"
      ],
      "metadata": {
        "id": "WyNSAj5gjr3i"
      }
    },
    {
      "cell_type": "code",
      "source": [
        "even_nums = [i for i in range(10) if i % 2 == 0]\n",
        "even_nums"
      ],
      "metadata": {
        "colab": {
          "base_uri": "https://localhost:8080/"
        },
        "id": "qYbTjRrEjuyg",
        "outputId": "a141cac9-14e7-479a-d656-67858407d4ef"
      },
      "execution_count": null,
      "outputs": [
        {
          "output_type": "execute_result",
          "data": {
            "text/plain": [
              "[0, 2, 4, 6, 8]"
            ]
          },
          "metadata": {},
          "execution_count": 25
        }
      ]
    },
    {
      "cell_type": "markdown",
      "source": [
        "При этом условия могут быть сложнее, можем возвращать объект из итерируемого объекта или же заменять его на что-то, используя конструкцию **if else**:"
      ],
      "metadata": {
        "id": "fkUr0ZaEkCFg"
      }
    },
    {
      "cell_type": "code",
      "source": [
        "orig_prices = [125, -9, 103, 38, -5, 116]\n",
        "prices = [i if i > 0 else 0 for i in orig_prices]\n",
        "prices"
      ],
      "metadata": {
        "colab": {
          "base_uri": "https://localhost:8080/"
        },
        "id": "K4vcugrnkC-a",
        "outputId": "393d8646-8cad-4368-f1e0-fcd13be48056"
      },
      "execution_count": null,
      "outputs": [
        {
          "output_type": "execute_result",
          "data": {
            "text/plain": [
              "[125, 0, 103, 38, 0, 116]"
            ]
          },
          "metadata": {},
          "execution_count": 26
        }
      ]
    },
    {
      "cell_type": "markdown",
      "source": [
        "Если условие хочется вынести отдельно, то можно реализовать дополнительную функцию для этого"
      ],
      "metadata": {
        "id": "aRwQ9xkQkmwm"
      }
    },
    {
      "cell_type": "code",
      "source": [
        "def get_price(price):\n",
        "    return price if price > 0 else 0\n",
        "\n",
        "\n",
        "prices = [get_price(i) for i in orig_prices]\n",
        "prices"
      ],
      "metadata": {
        "colab": {
          "base_uri": "https://localhost:8080/"
        },
        "id": "gEF2lztikoL6",
        "outputId": "c7b5dfa2-d4e3-443a-f127-7d9940d7c8a1"
      },
      "execution_count": null,
      "outputs": [
        {
          "output_type": "execute_result",
          "data": {
            "text/plain": [
              "[125, 0, 103, 38, 0, 116]"
            ]
          },
          "metadata": {},
          "execution_count": 27
        }
      ]
    },
    {
      "cell_type": "markdown",
      "source": [
        "## **set comprehensions и dictionary comprehensions**"
      ],
      "metadata": {
        "id": "Kk2XDoPwlcvj"
      }
    },
    {
      "cell_type": "markdown",
      "source": [
        "Помимо list comprehension в Python еще возможно создавать множественные и словарные представления (set comprehensions и dictionary comprehensions).\n",
        "set comprehension почти точно такое же, как и list comprehensions. Разница лишь в том, что заданные значения обеспечивают, чтобы выходные данные не содержали дубликатов. Создать set comprehension можно, используя фигурные скобки вместо квадратных:\n"
      ],
      "metadata": {
        "id": "s5CatXTTlhne"
      }
    },
    {
      "cell_type": "code",
      "source": [
        "numbers = ['black', 'red', 'green', 'green', 'red', 'green']\n",
        "{i for i in numbers}"
      ],
      "metadata": {
        "colab": {
          "base_uri": "https://localhost:8080/"
        },
        "id": "UXLvTtRelm_p",
        "outputId": "9082b0aa-cb7c-480a-8bfe-c55e3237a24c"
      },
      "execution_count": null,
      "outputs": [
        {
          "output_type": "execute_result",
          "data": {
            "text/plain": [
              "{'black', 'green', 'red'}"
            ]
          },
          "metadata": {},
          "execution_count": 28
        }
      ]
    },
    {
      "cell_type": "markdown",
      "source": [
        "Dict comprehensions создаются аналогично, только еще добавляется определение ключа:"
      ],
      "metadata": {
        "id": "CNC2O30Wl9Jk"
      }
    },
    {
      "cell_type": "code",
      "source": [
        "squares_dict = {i: i * i for i in range(5)}\n",
        "squares_dict"
      ],
      "metadata": {
        "colab": {
          "base_uri": "https://localhost:8080/"
        },
        "id": "FDfi8H78l-kb",
        "outputId": "207c0159-c63a-44af-ab04-6b6e8dbd6d40"
      },
      "execution_count": null,
      "outputs": [
        {
          "output_type": "execute_result",
          "data": {
            "text/plain": [
              "{0: 0, 1: 1, 2: 4, 3: 9, 4: 16}"
            ]
          },
          "metadata": {},
          "execution_count": 29
        }
      ]
    },
    {
      "cell_type": "markdown",
      "source": [
        "И напоследок, можем замерить производительность подходов, list comprehensions побеждают обычные циклы:"
      ],
      "metadata": {
        "id": "EJ5ezzN6mntb"
      }
    },
    {
      "cell_type": "code",
      "source": [
        "%%time\n",
        "\n",
        "even_nums = []\n",
        "for i in range(100_000_000):\n",
        "    if i % 2 == 0:\n",
        "        even_nums.append(i)"
      ],
      "metadata": {
        "colab": {
          "base_uri": "https://localhost:8080/"
        },
        "id": "6JAlz6hqmoGa",
        "outputId": "2300a4b8-e0ea-44a5-c1b5-99d00310b986"
      },
      "execution_count": null,
      "outputs": [
        {
          "output_type": "stream",
          "name": "stdout",
          "text": [
            "CPU times: user 23.2 s, sys: 3.64 s, total: 26.8 s\n",
            "Wall time: 27.4 s\n"
          ]
        }
      ]
    },
    {
      "cell_type": "code",
      "source": [
        "%%time\n",
        "even_nums = [i for i in range(100_000_000) if i % 2 == 0]"
      ],
      "metadata": {
        "colab": {
          "base_uri": "https://localhost:8080/"
        },
        "id": "iLGJA8J2mtYu",
        "outputId": "b5b08b71-5e64-40a7-a099-59065dbac017"
      },
      "execution_count": null,
      "outputs": [
        {
          "output_type": "stream",
          "name": "stdout",
          "text": [
            "CPU times: user 9.25 s, sys: 5.3 s, total: 14.5 s\n",
            "Wall time: 14.9 s\n"
          ]
        }
      ]
    }
  ]
}